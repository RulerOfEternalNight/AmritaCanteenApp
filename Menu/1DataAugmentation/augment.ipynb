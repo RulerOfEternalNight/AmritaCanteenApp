{
 "cells": [
  {
   "cell_type": "code",
   "execution_count": 20,
   "metadata": {},
   "outputs": [],
   "source": [
    "from keras_preprocessing.image import ImageDataGenerator, array_to_img, img_to_array, load_img\n",
    "\n",
    "\n",
    "datagen = ImageDataGenerator(\n",
    "        rotation_range=2,\n",
    "        width_shift_range=0.1,\n",
    "        height_shift_range=0.1,\n",
    "        shear_range=0.1,\n",
    "        zoom_range=0.1,\n",
    "        horizontal_flip=False,\n",
    "        fill_mode=\"nearest\")\n",
    "\n",
    "img = load_img(\"./myimage_500.jpg\")  # this is a PIL image\n",
    "x = img_to_array(img)  # this is a Numpy array with shape (3, 150, 150)\n",
    "x = x.reshape((1,) + x.shape)  # this is a Numpy array with shape (1, 3, 150, 150)\n",
    "\n",
    "# the .flow() command below generates batches of randomly transformed images\n",
    "# and saves the results to the `preview/` directory\n",
    "i = 0\n",
    "for batch in datagen.flow(x, batch_size=1,\n",
    "                          save_to_dir=\"preview\", save_prefix=\"menu4\", save_format=\"png\"):\n",
    "    i += 1\n",
    "    if i > 5:\n",
    "        break  # otherwise the generator would loop indefinitely"
   ]
  },
  {
   "cell_type": "code",
   "execution_count": 9,
   "metadata": {},
   "outputs": [],
   "source": [
    "lst = ['butter milk - 10',\n",
    "       'grape - 40',\n",
    "       'lime - 20',\n",
    "       'musk melon - 30',\n",
    "       'water melon - 20',\n",
    "       'orange - 70',\n",
    "       'pineapple - 60',\n",
    "       'musambi - 60',\n",
    "       'pista milk - 20',\n",
    "       'badam milkshake - 50',\n",
    "       'pineapple drink - 20',\n",
    "       'nutty bar - 30',\n",
    "       'butterscotch cone - 35',\n",
    "       'black current cone - 40',\n",
    "       'black forest cake - 50',\n",
    "       'idly(4) - 32',\n",
    "       'wheat upma - 25',\n",
    "       'chapathi egg masala - 93',\n",
    "       'fish Meals - 75',\n",
    "       'mathi fry - 50',\n",
    "       'katla fry - 60',\n",
    "       'single omelet - 15',\n",
    "       'double omelet - 30',\n",
    "       'egg briyani half - 50',\n",
    "       'egg briyani - 80',\n",
    "       'parotta - 90',\n",
    "       'veg puff - 15',\n",
    "       'badhusa - 15',\n",
    "       'dill puff - 15',\n",
    "       'bread toast - 15',\n",
    "       'cookies - 5',\n",
    "       'cutlet - 20',\n",
    "       'Tea - 10',\n",
    "       'coffee - 15',\n",
    "       'boost - 35',\n",
    "       'horlicks - 35',\n",
    "       'bournvita - 35',\n",
    "       'sukku coffee - 10',\n",
    "       'black tea - 10']\n"
   ]
  },
  {
   "cell_type": "code",
   "execution_count": null,
   "metadata": {},
   "outputs": [],
   "source": [
    "# butter milk - 10\n",
    "# grape - 40\n",
    "# lime - 20\n",
    "# musk melon - 30\n",
    "# water melon - 20\n",
    "# orange - 70\n",
    "# pineapple - 60\n",
    "# musambi - 60\n",
    "# pista milk - 20\n",
    "# badam milkshake - 50\n",
    "# pineapple drink - 20\n",
    "# nutty bar - 30\n",
    "# butterscotch cone - 35\n",
    "# black current cone - 40\n",
    "# black forest cake - 50\n",
    "# idly(4) - 32\n",
    "# wheat upma - 25\n",
    "# chapathi egg masala - 93\n",
    "# fish Meals - 75\n",
    "# mathi fry - 50\n",
    "# katla fry - 60\n",
    "# single omelet - 15\n",
    "# double omelet - 30\n",
    "# egg briyani half -50\n",
    "# egg briyani - 80\n",
    "# parotta - 90\n",
    "# veg puff - 15\n",
    "# badhusa -15\n",
    "# dill puff - 15\n",
    "# bread toast - 15\n",
    "# cookies - 5\n",
    "# cutlet - 20\n",
    "# Tea - 10\n",
    "# coffee - 15\n",
    "# boost - 35\n",
    "# horlicks - 35\n",
    "# bournvita - 35\n",
    "# sukku coffee - 10\n",
    "# black tea - 10"
   ]
  },
  {
   "cell_type": "code",
   "execution_count": 17,
   "metadata": {},
   "outputs": [
    {
     "data": {
      "text/plain": [
       "(566, 890, 3)"
      ]
     },
     "execution_count": 17,
     "metadata": {},
     "output_type": "execute_result"
    }
   ],
   "source": [
    "from keras_preprocessing.image import ImageDataGenerator, array_to_img, img_to_array, load_img\n",
    "\n",
    "img = load_img(\"../_datasets/org/seq_2.jpg\")  # this is a PIL image\n",
    "x = img_to_array(img)  # this is a Numpy array with shape (3, 150, 150)\n",
    "\n",
    "x.shape"
   ]
  },
  {
   "cell_type": "code",
   "execution_count": 18,
   "metadata": {},
   "outputs": [],
   "source": [
    "from PIL import Image\n",
    "image = Image.open('../_datasets/org/seq_4.jpg')\n",
    "new_image = image.resize((570, 570))\n",
    "new_image.save('myimage_500.jpg')"
   ]
  },
  {
   "cell_type": "code",
   "execution_count": 11,
   "metadata": {},
   "outputs": [],
   "source": [
    "food = []\n",
    "cost = []\n",
    "for i in lst:\n",
    "    food.append(i.split(\" - \")[0])\n",
    "    cost.append(i.split(\" - \")[1])"
   ]
  },
  {
   "cell_type": "code",
   "execution_count": 16,
   "metadata": {},
   "outputs": [
    {
     "data": {
      "text/plain": [
       "['butter milk',\n",
       " 'grape',\n",
       " 'lime',\n",
       " 'musk melon',\n",
       " 'water melon',\n",
       " 'orange',\n",
       " 'pineapple',\n",
       " 'musambi',\n",
       " 'pista milk',\n",
       " 'badam milkshake',\n",
       " 'pineapple drink',\n",
       " 'nutty bar',\n",
       " 'butterscotch cone',\n",
       " 'black current cone',\n",
       " 'black forest cake']"
      ]
     },
     "execution_count": 16,
     "metadata": {},
     "output_type": "execute_result"
    }
   ],
   "source": [
    "food[:15]"
   ]
  },
  {
   "cell_type": "code",
   "execution_count": 18,
   "metadata": {},
   "outputs": [
    {
     "data": {
      "text/plain": [
       "['wheat upma',\n",
       " 'chapathi egg masala',\n",
       " 'fish Meals',\n",
       " 'mathi fry',\n",
       " 'katla fry',\n",
       " 'single omelet',\n",
       " 'double omelet']"
      ]
     },
     "execution_count": 18,
     "metadata": {},
     "output_type": "execute_result"
    }
   ],
   "source": [
    "food[16:23]"
   ]
  },
  {
   "cell_type": "code",
   "execution_count": 19,
   "metadata": {},
   "outputs": [
    {
     "data": {
      "text/plain": [
       "['egg briyani',\n",
       " 'parotta',\n",
       " 'veg puff',\n",
       " 'badhusa',\n",
       " 'dill puff',\n",
       " 'bread toast',\n",
       " 'cookies',\n",
       " 'cutlet',\n",
       " 'Tea',\n",
       " 'coffee',\n",
       " 'boost',\n",
       " 'horlicks',\n",
       " 'bournvita',\n",
       " 'sukku coffee',\n",
       " 'black tea']"
      ]
     },
     "execution_count": 19,
     "metadata": {},
     "output_type": "execute_result"
    }
   ],
   "source": [
    "food[24:]"
   ]
  },
  {
   "cell_type": "code",
   "execution_count": 20,
   "metadata": {},
   "outputs": [],
   "source": [
    "finf = []\n",
    "finc = []"
   ]
  },
  {
   "cell_type": "code",
   "execution_count": 22,
   "metadata": {},
   "outputs": [
    {
     "data": {
      "text/plain": [
       "[['10',\n",
       "  '40',\n",
       "  '20',\n",
       "  '30',\n",
       "  '20',\n",
       "  '70',\n",
       "  '60',\n",
       "  '60',\n",
       "  '20',\n",
       "  '50',\n",
       "  '20',\n",
       "  '30',\n",
       "  '35',\n",
       "  '40',\n",
       "  '50'],\n",
       " ['25', '93', '75', '50', '60', '15', '30'],\n",
       " ['80',\n",
       "  '90',\n",
       "  '15',\n",
       "  '15',\n",
       "  '15',\n",
       "  '15',\n",
       "  '5',\n",
       "  '20',\n",
       "  '10',\n",
       "  '15',\n",
       "  '35',\n",
       "  '35',\n",
       "  '35',\n",
       "  '10',\n",
       "  '10'],\n",
       " ['10',\n",
       "  '40',\n",
       "  '20',\n",
       "  '30',\n",
       "  '20',\n",
       "  '70',\n",
       "  '60',\n",
       "  '60',\n",
       "  '20',\n",
       "  '50',\n",
       "  '20',\n",
       "  '30',\n",
       "  '35',\n",
       "  '40',\n",
       "  '50'],\n",
       " ['25', '93', '75', '50', '60', '15', '30'],\n",
       " ['80',\n",
       "  '90',\n",
       "  '15',\n",
       "  '15',\n",
       "  '15',\n",
       "  '15',\n",
       "  '5',\n",
       "  '20',\n",
       "  '10',\n",
       "  '15',\n",
       "  '35',\n",
       "  '35',\n",
       "  '35',\n",
       "  '10',\n",
       "  '10']]"
      ]
     },
     "execution_count": 22,
     "metadata": {},
     "output_type": "execute_result"
    }
   ],
   "source": [
    "for i in [1,2,3]:\n",
    "    if i == 1:\n",
    "        finf.append(food[:15])\n",
    "        finc.append(cost[:15])\n",
    "    elif i == 2:\n",
    "        finf.append(food[16:23])\n",
    "        finc.append(cost[16:23])\n",
    "    elif i == 3:\n",
    "        finf.append(food[24:])\n",
    "        finc.append(cost[24:])\n",
    "\n",
    "finf\n",
    "finc"
   ]
  },
  {
   "cell_type": "code",
   "execution_count": null,
   "metadata": {},
   "outputs": [],
   "source": []
  }
 ],
 "metadata": {
  "kernelspec": {
   "display_name": "base",
   "language": "python",
   "name": "python3"
  },
  "language_info": {
   "codemirror_mode": {
    "name": "ipython",
    "version": 3
   },
   "file_extension": ".py",
   "mimetype": "text/x-python",
   "name": "python",
   "nbconvert_exporter": "python",
   "pygments_lexer": "ipython3",
   "version": "3.8.8"
  },
  "orig_nbformat": 4
 },
 "nbformat": 4,
 "nbformat_minor": 2
}
